{
 "metadata": {
  "orig_nbformat": 2,
  "kernelspec": {
   "name": "python3",
   "display_name": "Python 3",
   "language": "python"
  }
 },
 "nbformat": 4,
 "nbformat_minor": 2,
 "cells": [
  {
   "cell_type": "code",
   "execution_count": 1,
   "metadata": {},
   "outputs": [
    {
     "output_type": "stream",
     "name": "stdout",
     "text": [
      "(720, 1280, 3)\n"
     ]
    }
   ],
   "source": [
    "import cv2\n",
    "import numpy as np\n",
    "import matplotlib.pyplot as plt\n",
    "from PIL import Image\n",
    "\n",
    "img = cv2.imread('Files/Affine/perspective02.jpg')\n",
    "\n",
    "height, width = img.shape[:2]\n",
    "width = int(0.75*width)\n",
    "height = int(0.75*height)\n",
    "res = cv2.resize(img, (width, height), interpolation = cv2.INTER_CUBIC)\n",
    "rows,cols = img.shape[:2]\n",
    "print(img.shape)\n",
    "\n",
    "while (1):\n",
    "\n",
    "    cv2.imshow('Image', res)\n",
    "    k = cv2.waitKey(1)\n",
    "    if k == ord('q'):\n",
    "        break\n",
    "\n",
    "cv2.destroyAllWindows()"
   ]
  },
  {
   "cell_type": "code",
   "execution_count": 2,
   "metadata": {},
   "outputs": [],
   "source": [
    "def nothing(x):\n",
    "    pass\n",
    "\n",
    "cv2.namedWindow('Image')\n",
    "\n",
    "cv2.createTrackbar('x', 'Image', 0, 1, nothing)\n",
    "\n",
    "while 1:\n",
    "\n",
    "    pts1 = np.float32(\n",
    "        [\n",
    "            [440,  255], [525,  255],\n",
    "            [0, 540], [960, 540]\n",
    "        ]\n",
    "    )\n",
    "\n",
    "    pts2 = np.float32(\n",
    "        [\n",
    "            [440,   0], [525,  0],\n",
    "            [440, 540], [525, 540]\n",
    "        ]\n",
    "    )\n",
    "\n",
    "    M = cv2.getPerspectiveTransform(pts1 ,pts2)\n",
    "    dst = cv2.warpPerspective(res, M, (cols,rows))\n",
    "\n",
    "    \n",
    "        \n",
    "    for point in pts2:\n",
    "        dst = cv2.circle(dst, (int(point[0]), int(point[1])), 1, (0, 0, 255), 2)\n",
    "\n",
    "    x = cv2.getTrackbarPos('x', 'Image')\n",
    "    \n",
    "    out = []\n",
    "    \n",
    "    if (x == 1):\n",
    "        out = cv2.addWeighted(res, 0.7, dst, 0.5, 0)\n",
    "    else:\n",
    "        for point in pts1:\n",
    "            dst = cv2.circle(dst, (int(point[0]), int(point[1])), 1, (0, 255, 0), 2)\n",
    "        out = dst\n",
    "\n",
    "    cv2.imshow('Image', out)\n",
    "    k = cv2.waitKey(1)\n",
    "    if k == ord('q'):\n",
    "        break\n",
    "\n",
    "cv2.destroyAllWindows()\n"
   ]
  },
  {
   "cell_type": "code",
   "execution_count": null,
   "metadata": {},
   "outputs": [],
   "source": []
  }
 ]
}