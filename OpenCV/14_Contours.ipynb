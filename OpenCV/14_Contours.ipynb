{
 "metadata": {
  "language_info": {
   "codemirror_mode": {
    "name": "ipython",
    "version": 3
   },
   "file_extension": ".py",
   "mimetype": "text/x-python",
   "name": "python",
   "nbconvert_exporter": "python",
   "pygments_lexer": "ipython3",
   "version": "3.8.5"
  },
  "orig_nbformat": 2,
  "kernelspec": {
   "name": "python385jvsc74a57bd0eb8c7586bab4cefb247dc8c18caec0836ebc1ec97121c65319cd2d27f3e15471",
   "display_name": "Python 3.8.5 64-bit ('base': conda)"
  },
  "metadata": {
   "interpreter": {
    "hash": "eb8c7586bab4cefb247dc8c18caec0836ebc1ec97121c65319cd2d27f3e15471"
   }
  }
 },
 "nbformat": 4,
 "nbformat_minor": 2,
 "cells": [
  {
   "source": [
    "# Contours Lab\n",
    "\n",
    "In this lab we need to explore contours shapes.\n",
    "\n",
    "![](Files/Contours/lab.png)\n",
    "\n",
    "## Required\n",
    "\n",
    "- Erase the 3 small shapes.\n",
    "- Fill the rectangle with blue color.\n",
    "- Fill the oval with red color.\n",
    "\n",
    "## Grade\n",
    "\n",
    "10"
   ],
   "cell_type": "markdown",
   "metadata": {}
  },
  {
   "cell_type": "code",
   "execution_count": 1,
   "metadata": {},
   "outputs": [],
   "source": [
    "import cv2\n",
    "import numpy as np\n",
    "from skimage import img_as_float\n",
    "import matplotlib.pyplot as plt\n",
    "\n",
    "img = cv2.imread('Files/Contours/lab.png')\n",
    "gray = cv2.cvtColor(img, cv2.COLOR_BGR2GRAY)\n",
    "\n",
    "def nothing(x):\n",
    "    pass\n",
    "\n",
    "cv2.namedWindow('Output')\n",
    "\n",
    "while 1:\n",
    "\n",
    "    out = img.copy()\n",
    "    _, th = cv2.threshold(gray, 10, 255, cv2.THRESH_BINARY)\n",
    "    contours , _ = cv2.findContours(th, cv2.RETR_TREE , cv2.CHAIN_APPROX_SIMPLE )\n",
    "\n",
    "    cv2.drawContours(out , contours, 1 , (255,255,255), -1)  # Rectangle\n",
    "\n",
    "    cv2.drawContours(out , contours, 6 , (255,255,255), -1)  # el 5omasy\n",
    "    cv2.drawContours(out , contours, 7 , (255,255,255), -1)  # el moraba3\n",
    "\n",
    "    cv2.drawContours(out , contours, 5 , (0,0,0), -1)   \n",
    "    cv2.drawContours(out , contours, 3 , (0,0,0), -1)\n",
    "\n",
    "    cv2.drawContours(out , contours, 2 , (255,0,0), -1) \n",
    "    cv2.drawContours(out , contours, 4 , (0,0,255), -1)\n",
    "\n",
    "    cv2.imshow('Output', out)\n",
    "\n",
    "\n",
    "\n",
    "    k = cv2.waitKey(1)\n",
    "    if k == ord('q'):\n",
    "        break\n",
    "\n",
    "cv2.destroyAllWindows()"
   ]
  },
  {
   "cell_type": "code",
   "execution_count": null,
   "metadata": {},
   "outputs": [],
   "source": []
  },
  {
   "cell_type": "code",
   "execution_count": null,
   "metadata": {},
   "outputs": [],
   "source": []
  },
  {
   "cell_type": "code",
   "execution_count": null,
   "metadata": {},
   "outputs": [],
   "source": []
  },
  {
   "cell_type": "code",
   "execution_count": null,
   "metadata": {},
   "outputs": [],
   "source": []
  },
  {
   "cell_type": "code",
   "execution_count": null,
   "metadata": {},
   "outputs": [],
   "source": []
  }
 ]
}