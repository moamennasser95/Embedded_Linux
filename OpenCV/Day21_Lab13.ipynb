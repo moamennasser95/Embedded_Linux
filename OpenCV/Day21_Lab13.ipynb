{
 "metadata": {
  "language_info": {
   "codemirror_mode": {
    "name": "ipython",
    "version": 3
   },
   "file_extension": ".py",
   "mimetype": "text/x-python",
   "name": "python",
   "nbconvert_exporter": "python",
   "pygments_lexer": "ipython3",
   "version": "3.8.5"
  },
  "orig_nbformat": 2,
  "kernelspec": {
   "name": "python3",
   "display_name": "Python 3",
   "language": "python"
  }
 },
 "nbformat": 4,
 "nbformat_minor": 2,
 "cells": [
  {
   "cell_type": "code",
   "execution_count": 1,
   "metadata": {},
   "outputs": [],
   "source": [
    "import numpy as np\n",
    "import cv2 as cv\n",
    "\n",
    "\n",
    "def draw_circle(event,x,y,flags,param):\n",
    "\n",
    "    if event == cv.EVENT_LBUTTONDOWN:\n",
    "        cv.rectangle(img,(x,y),(x+10,y+15),(255,0,0),-1)\n",
    "\n",
    "    elif event == cv.EVENT_LBUTTONUP:\n",
    "        cv.rectangle(img,(x,y),(x+15,y+15),(0,255,0),-1)\n",
    "\n",
    "    elif event == cv.EVENT_RBUTTONDOWN:\n",
    "        cv.circle(img,(x,y),20,(255,0,0),-1)\n",
    "\n",
    "    elif event == cv.EVENT_RBUTTONUP:\n",
    "        cv.ellipse(img,(x,y),(15,15),0,0,180,(0,255,0),5)\n",
    "\n",
    "    elif event == cv.EVENT_MBUTTONDOWN:\n",
    "        font = cv.FONT_HERSHEY_SCRIPT_SIMPLEX\n",
    "        cv.putText(img , \"Moamen\" ,(x,y), font , 2 , (200,200,200) , 2 , cv.FILLED  )\n",
    "\n",
    "\n",
    "# Create a black image, a window and bind the function to window\n",
    "\n",
    "img = np.zeros((512,512,3), np.uint8)\n",
    "\n",
    "cv.namedWindow('image')\n",
    "cv.setMouseCallback('image',draw_circle)\n",
    "\n",
    "while(1):\n",
    "    cv.imshow('image',img)\n",
    "    if cv.waitKey(20) == ord('q') :\n",
    "        break\n",
    "cv.destroyAllWindows()\n"
   ]
  },
  {
   "cell_type": "code",
   "execution_count": null,
   "metadata": {},
   "outputs": [],
   "source": []
  }
 ]
}