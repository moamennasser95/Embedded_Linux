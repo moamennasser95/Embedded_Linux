{
 "metadata": {
  "language_info": {
   "codemirror_mode": {
    "name": "ipython",
    "version": 3
   },
   "file_extension": ".py",
   "mimetype": "text/x-python",
   "name": "python",
   "nbconvert_exporter": "python",
   "pygments_lexer": "ipython3",
   "version": "3.8.5"
  },
  "orig_nbformat": 2,
  "kernelspec": {
   "name": "python3",
   "display_name": "Python 3",
   "language": "python"
  }
 },
 "nbformat": 4,
 "nbformat_minor": 2,
 "cells": [
  {
   "cell_type": "code",
   "execution_count": 6,
   "metadata": {},
   "outputs": [
    {
     "output_type": "execute_result",
     "data": {
      "text/plain": [
       "True"
      ]
     },
     "metadata": {},
     "execution_count": 6
    }
   ],
   "source": [
    "import cv2\n",
    "import numpy as np\n",
    "import matplotlib.pyplot as plt\n",
    "from PIL import Image\n",
    "\n",
    "def show(img):\n",
    "    if (len(img.shape) == 2):\n",
    "        display(Image.fromarray(img));    \n",
    "    else:\n",
    "        display(Image.fromarray(img[:,:,::-1]));\n",
    "\n",
    "\n",
    "img = cv2.imread('Files/001.jpg')\n",
    "\n",
    "gray = cv2.cvtColor(img, cv2.COLOR_BGR2GRAY)\n",
    "\n",
    "clahe = cv2.createCLAHE(clipLimit=2.0, tileGridSize=(8,8))\n",
    "cl1 = clahe.apply(gray)\n",
    "cv2.imwrite('clahe_2.jpg',cl1)\n",
    "\n"
   ]
  },
  {
   "source": [
    "# What it 'CLAHE'?\n",
    "clahe is applying contrast limiting\n",
    "\n",
    "# How it is compared to what we disscused in the lecture?\n",
    "In histogram .. We lost most of the information there due to over-brightness. It is because its histogram is not confined to a particular region as we saw in previous cases\n",
    "\n",
    "\n"
   ],
   "cell_type": "markdown",
   "metadata": {}
  }
 ]
}