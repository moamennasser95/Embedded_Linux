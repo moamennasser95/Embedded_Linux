{
 "metadata": {
  "language_info": {
   "codemirror_mode": {
    "name": "ipython",
    "version": 3
   },
   "file_extension": ".py",
   "mimetype": "text/x-python",
   "name": "python",
   "nbconvert_exporter": "python",
   "pygments_lexer": "ipython3",
   "version": "3.8.5"
  },
  "orig_nbformat": 2,
  "kernelspec": {
   "name": "python385jvsc74a57bd031f2aee4e71d21fbe5cf8b01ff0e069b9275f58929596ceb00d14d90e3e16cd6",
   "display_name": "Python 3.8.5 64-bit"
  },
  "metadata": {
   "interpreter": {
    "hash": "916dbcbb3f70747c44a77c7bcd40155683ae19c65e1c03b4aa3499c5328201f1"
   }
  }
 },
 "nbformat": 4,
 "nbformat_minor": 2,
 "cells": [
  {
   "cell_type": "code",
   "execution_count": 1,
   "metadata": {},
   "outputs": [
    {
     "output_type": "stream",
     "name": "stderr",
     "text": [
      "<ipython-input-1-2f8a3a0a8769>:12: DeprecationWarning: `np.float` is a deprecated alias for the builtin `float`. To silence this warning, use `float` by itself. Doing this will not modify any behavior and is safe. If you specifically wanted the numpy scalar type, use `np.float64` here.\nDeprecated in NumPy 1.20; for more details and guidance: https://numpy.org/devdocs/release/1.20.0-notes.html#deprecations\n  h = np.zeros(img.shape, np.float)\n<ipython-input-1-2f8a3a0a8769>:13: DeprecationWarning: `np.float` is a deprecated alias for the builtin `float`. To silence this warning, use `float` by itself. Doing this will not modify any behavior and is safe. If you specifically wanted the numpy scalar type, use `np.float64` here.\nDeprecated in NumPy 1.20; for more details and guidance: https://numpy.org/devdocs/release/1.20.0-notes.html#deprecations\n  s = np.zeros(img.shape, np.float)\n<ipython-input-1-2f8a3a0a8769>:14: DeprecationWarning: `np.float` is a deprecated alias for the builtin `float`. To silence this warning, use `float` by itself. Doing this will not modify any behavior and is safe. If you specifically wanted the numpy scalar type, use `np.float64` here.\nDeprecated in NumPy 1.20; for more details and guidance: https://numpy.org/devdocs/release/1.20.0-notes.html#deprecations\n  v = np.zeros(img.shape, np.float)\n"
     ]
    }
   ],
   "source": [
    "###################\n",
    "# Task 1 Solution #\n",
    "###################\n",
    "import cv2\n",
    "import numpy as np\n",
    "import matplotlib.pyplot as plt\n",
    "import matplotlib.colors\n",
    "\n",
    "img = cv2.imread('Files/001.jpg')\n",
    "hsv = cv2.cvtColor(img, cv2.COLOR_BGR2HSV)\n",
    "\n",
    "h = np.zeros(img.shape, np.float)\n",
    "s = np.zeros(img.shape, np.float)\n",
    "v = np.zeros(img.shape, np.float)\n",
    "\n",
    "h = hsv[:,:,0]-5\n",
    "s = hsv[:,:,1]+10\n",
    "v = hsv[:,:,2]*1.25\n",
    "\n",
    "h[h>255]=255\n",
    "s[s>255]=255\n",
    "v[v>255]=255\n",
    "\n",
    "new_hsv = np.dstack((h,s,v))\n",
    "new_hsv = new_hsv.astype(np.uint8)\n",
    "\n",
    "bgr = cv2.cvtColor( new_hsv , cv2.COLOR_HSV2BGR )\n",
    "\n",
    "cv2.imshow('Task 1',bgr)\n",
    "cv2.waitKey()"
   ]
  },
  {
   "cell_type": "code",
   "execution_count": null,
   "metadata": {},
   "outputs": [],
   "source": [
    "###################\n",
    "# Task 2 Solution #\n",
    "###################\n",
    "import cv2\n",
    "import numpy as np\n",
    "import matplotlib.pyplot as plt\n",
    "import matplotlib.colors\n",
    "\n",
    "img = cv2.imread('Files/001.jpg')\n",
    "YCrCb = cv2.cvtColor(img, cv2.COLOR_BGR2YCrCb)\n",
    "\n",
    "y = np.zeros(img.shape, np.float)\n",
    "Cr = np.zeros(img.shape, np.float)\n",
    "Cb = np.zeros(img.shape, np.float)\n",
    "\n",
    "y = YCrCb[:,:,0]*1.5\n",
    "Cr = YCrCb[:,:,1]\n",
    "Cb = YCrCb[:,:,2]\n",
    "\n",
    "y[y>255]=255\n",
    "Cr[Cr>255]=255\n",
    "Cb[Cb>255]=255\n",
    "\n",
    "new_YCrCb = np.dstack((y,Cr,Cb))\n",
    "new_YCrCb = new_YCrCb.astype(np.uint8)\n",
    "\n",
    "bgr = cv2.cvtColor( new_YCrCb , cv2.COLOR_YCrCb2BGR )\n",
    "\n",
    "cv2.imshow('Task 2',bgr)\n",
    "cv2.waitKey()"
   ]
  },
  {
   "cell_type": "code",
   "execution_count": null,
   "metadata": {},
   "outputs": [],
   "source": []
  }
 ]
}