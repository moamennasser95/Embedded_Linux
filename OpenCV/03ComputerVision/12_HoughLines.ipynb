{
 "metadata": {
  "language_info": {
   "codemirror_mode": {
    "name": "ipython",
    "version": 3
   },
   "file_extension": ".py",
   "mimetype": "text/x-python",
   "name": "python",
   "nbconvert_exporter": "python",
   "pygments_lexer": "ipython3",
   "version": "3.8.8"
  },
  "orig_nbformat": 2,
  "kernelspec": {
   "name": "python388jvsc74a57bd084bfc6b43084b7f1d44113ddb52f5e5a6351616aec74c18aec559fee54ff0b6a",
   "display_name": "Python 3.8.8 64-bit ('base': conda)"
  }
 },
 "nbformat": 4,
 "nbformat_minor": 2,
 "cells": [
  {
   "source": [
    "# Hough Lines Lab\n",
    "\n",
    "## Required\n",
    "\n",
    "Create you own playaround to explore houghlines\n",
    "\n",
    "## Criteria\n",
    "\n",
    "- Use any edge detection filter you need but `canny` is recommended.\n",
    "- You must use `houghLinesP` funstion.\n",
    "- Create a trackbar for each variable in the function.\n",
    "- Find the suitable parametrs to apply on:\n",
    "  - Building.jpg\n",
    "  - Road.jpg\n",
    "- Save you results as images with lines drawn.\n",
    "\n",
    "## Grade\n",
    "\n",
    "10"
   ],
   "cell_type": "markdown",
   "metadata": {}
  },
  {
   "cell_type": "code",
   "execution_count": null,
   "metadata": {},
   "outputs": [],
   "source": []
  },
  {
   "cell_type": "code",
   "execution_count": null,
   "metadata": {},
   "outputs": [],
   "source": []
  }
 ]
}