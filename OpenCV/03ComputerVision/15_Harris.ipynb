{
 "metadata": {
  "language_info": {
   "codemirror_mode": {
    "name": "ipython",
    "version": 3
   },
   "file_extension": ".py",
   "mimetype": "text/x-python",
   "name": "python",
   "nbconvert_exporter": "python",
   "pygments_lexer": "ipython3",
   "version": "3.8.5"
  },
  "orig_nbformat": 2,
  "kernelspec": {
   "name": "python385jvsc74a57bd0eb8c7586bab4cefb247dc8c18caec0836ebc1ec97121c65319cd2d27f3e15471",
   "display_name": "Python 3.8.5 64-bit ('base': conda)"
  },
  "metadata": {
   "interpreter": {
    "hash": "eb8c7586bab4cefb247dc8c18caec0836ebc1ec97121c65319cd2d27f3e15471"
   }
  }
 },
 "nbformat": 4,
 "nbformat_minor": 2,
 "cells": [
  {
   "source": [
    "# Corner Dtection\n",
    "\n",
    "- Understand and Explore `Harris` corner detection.\n",
    "- Using OpenCV, apply it to all images in Chess folder.\n",
    "\n",
    "## Criteria\n",
    "\n",
    "- Detect as much chessboard corners as you can in all images.\n",
    "\n",
    "## Grade\n",
    "- 12"
   ],
   "cell_type": "markdown",
   "metadata": {}
  },
  {
   "cell_type": "code",
   "execution_count": 1,
   "metadata": {},
   "outputs": [
    {
     "output_type": "stream",
     "name": "stdout",
     "text": [
      "Original Dimensions :  (3500, 4400, 3)\n",
      "Resized Dimensions :  (700, 880, 3)\n",
      "0.017384052276611328\n"
     ]
    }
   ],
   "source": [
    "import numpy as np\n",
    "import cv2\n",
    "import cv2 as cv\n",
    "import time\n",
    "\n",
    "filename = 'Files/Chess/chess.png'\n",
    "img = cv2.imread(filename)\n",
    "\n",
    "\n",
    "print('Original Dimensions : ',img.shape)                      #####\n",
    "scale_percent = 20 # percent of original size                  #####\n",
    "width = int(img.shape[1] * scale_percent / 100)                #####\n",
    "height = int(img.shape[0] * scale_percent / 100)               #####\n",
    "dim = (width, height)                                          #####\n",
    "# resize image                                                 #####\n",
    "resized = cv2.resize(img, dim, interpolation = cv2.INTER_AREA) #####\n",
    "print('Resized Dimensions : ',resized.shape)                   #####\n",
    "\n",
    "\n",
    "gray = cv2.cvtColor(resized,cv2.COLOR_BGR2GRAY)\n",
    "gray = np.float32(gray)\n",
    "\n",
    "time1 = time.time()\n",
    "dst = cv2.cornerHarris(gray,2,3,0.04)\n",
    "time2 = time.time() - time1\n",
    "\n",
    "#result is dilated for marking the corners, not important\n",
    "dst = cv2.dilate(dst,None)\n",
    "# Threshold for an optimal value, it may vary depending on the image.\n",
    "resized[dst>0.01*dst.max()]=[0,0,255]\n",
    "\n",
    "cv2.imshow('dst',resized)\n",
    "\n",
    "print(time2)\n",
    "\n",
    "if cv2.waitKey(0) & 0xff == 27:\n",
    "    cv2.destroyAllWindows()"
   ]
  },
  {
   "cell_type": "code",
   "execution_count": null,
   "metadata": {},
   "outputs": [],
   "source": []
  },
  {
   "cell_type": "code",
   "execution_count": 2,
   "metadata": {},
   "outputs": [
    {
     "output_type": "stream",
     "name": "stdout",
     "text": [
      "Original Dimensions :  (218, 280, 3)\nResized Dimensions :  (218, 280, 3)\n0.018226146697998047\n"
     ]
    }
   ],
   "source": [
    "import numpy as np\n",
    "import cv2\n",
    "import cv2 as cv\n",
    "import time\n",
    "\n",
    "filename = 'Files/Chess/001.png'\n",
    "img = cv2.imread(filename)\n",
    "\n",
    "\n",
    "print('Original Dimensions : ',img.shape)                      #####\n",
    "scale_percent = 100 # percent of original size                  #####\n",
    "width = int(img.shape[1] * scale_percent / 100)                #####\n",
    "height = int(img.shape[0] * scale_percent / 100)               #####\n",
    "dim = (width, height)                                          #####\n",
    "# resize image                                                 #####\n",
    "resized = cv2.resize(img, dim, interpolation = cv2.INTER_AREA) #####\n",
    "print('Resized Dimensions : ',resized.shape)                   #####\n",
    "\n",
    "\n",
    "gray = cv2.cvtColor(resized,cv2.COLOR_BGR2GRAY)\n",
    "gray = np.float32(gray)\n",
    "\n",
    "time1 = time.time()\n",
    "dst = cv2.cornerHarris(gray,2,3,0.04)\n",
    "time2 = time.time() - time1\n",
    "\n",
    "#result is dilated for marking the corners, not important\n",
    "dst = cv2.dilate(dst,None)\n",
    "# Threshold for an optimal value, it may vary depending on the image.\n",
    "resized[dst>0.01*dst.max()]=[0,0,255]\n",
    "\n",
    "cv2.imshow('dst',resized)\n",
    "\n",
    "print(time2)\n",
    "\n",
    "if cv2.waitKey(0) & 0xff == 27:\n",
    "    cv2.destroyAllWindows()"
   ]
  },
  {
   "cell_type": "code",
   "execution_count": null,
   "metadata": {},
   "outputs": [],
   "source": []
  },
  {
   "cell_type": "code",
   "execution_count": 3,
   "metadata": {},
   "outputs": [
    {
     "output_type": "stream",
     "name": "stdout",
     "text": [
      "Original Dimensions :  (218, 280, 3)\nResized Dimensions :  (218, 280, 3)\n0.018268346786499023\n"
     ]
    }
   ],
   "source": [
    "import numpy as np\n",
    "import cv2\n",
    "import cv2 as cv\n",
    "import time\n",
    "\n",
    "filename = 'Files/Chess/002.png'\n",
    "img = cv2.imread(filename)\n",
    "\n",
    "\n",
    "print('Original Dimensions : ',img.shape)                      #####\n",
    "scale_percent = 100 # percent of original size                  #####\n",
    "width = int(img.shape[1] * scale_percent / 100)                #####\n",
    "height = int(img.shape[0] * scale_percent / 100)               #####\n",
    "dim = (width, height)                                          #####\n",
    "# resize image                                                 #####\n",
    "resized = cv2.resize(img, dim, interpolation = cv2.INTER_AREA) #####\n",
    "print('Resized Dimensions : ',resized.shape)                   #####\n",
    "\n",
    "\n",
    "gray = cv2.cvtColor(resized,cv2.COLOR_BGR2GRAY)\n",
    "gray = np.float32(gray)\n",
    "\n",
    "time1 = time.time()\n",
    "dst = cv2.cornerHarris(gray,2,3,0.04)\n",
    "time2 = time.time() - time1\n",
    "\n",
    "#result is dilated for marking the corners, not important\n",
    "dst = cv2.dilate(dst,None)\n",
    "# Threshold for an optimal value, it may vary depending on the image.\n",
    "resized[dst>0.01*dst.max()]=[0,0,255]\n",
    "\n",
    "cv2.imshow('dst',resized)\n",
    "\n",
    "print(time2)\n",
    "\n",
    "if cv2.waitKey(0) & 0xff == 27:\n",
    "    cv2.destroyAllWindows()"
   ]
  },
  {
   "cell_type": "code",
   "execution_count": null,
   "metadata": {},
   "outputs": [],
   "source": []
  },
  {
   "cell_type": "code",
   "execution_count": 4,
   "metadata": {},
   "outputs": [
    {
     "output_type": "stream",
     "name": "stdout",
     "text": [
      "Original Dimensions :  (218, 280, 3)\nResized Dimensions :  (218, 280, 3)\n0.033097028732299805\n"
     ]
    }
   ],
   "source": [
    "import numpy as np\n",
    "import cv2\n",
    "import cv2 as cv\n",
    "import time\n",
    "\n",
    "filename = 'Files/Chess/003.png'\n",
    "img = cv2.imread(filename)\n",
    "\n",
    "\n",
    "print('Original Dimensions : ',img.shape)                      #####\n",
    "scale_percent = 100 # percent of original size                  #####\n",
    "width = int(img.shape[1] * scale_percent / 100)                #####\n",
    "height = int(img.shape[0] * scale_percent / 100)               #####\n",
    "dim = (width, height)                                          #####\n",
    "# resize image                                                 #####\n",
    "resized = cv2.resize(img, dim, interpolation = cv2.INTER_AREA) #####\n",
    "print('Resized Dimensions : ',resized.shape)                   #####\n",
    "\n",
    "\n",
    "gray = cv2.cvtColor(resized,cv2.COLOR_BGR2GRAY)\n",
    "gray = np.float32(gray)\n",
    "\n",
    "time1 = time.time()\n",
    "dst = cv2.cornerHarris(gray,2,3,0.04)\n",
    "time2 = time.time() - time1\n",
    "\n",
    "#result is dilated for marking the corners, not important\n",
    "dst = cv2.dilate(dst,None)\n",
    "# Threshold for an optimal value, it may vary depending on the image.\n",
    "resized[dst>0.01*dst.max()]=[0,0,255]\n",
    "\n",
    "cv2.imshow('dst',resized)\n",
    "\n",
    "print(time2)\n",
    "\n",
    "if cv2.waitKey(0) & 0xff == 27:\n",
    "    cv2.destroyAllWindows()"
   ]
  },
  {
   "cell_type": "code",
   "execution_count": null,
   "metadata": {},
   "outputs": [],
   "source": []
  },
  {
   "cell_type": "code",
   "execution_count": 5,
   "metadata": {},
   "outputs": [
    {
     "output_type": "stream",
     "name": "stdout",
     "text": [
      "Original Dimensions :  (218, 280, 3)\nResized Dimensions :  (218, 280, 3)\n0.018021583557128906\n"
     ]
    }
   ],
   "source": [
    "import numpy as np\n",
    "import cv2\n",
    "import cv2 as cv\n",
    "import time\n",
    "\n",
    "filename = 'Files/Chess/004.png'\n",
    "img = cv2.imread(filename)\n",
    "\n",
    "\n",
    "print('Original Dimensions : ',img.shape)                      #####\n",
    "scale_percent = 100 # percent of original size                  #####\n",
    "width = int(img.shape[1] * scale_percent / 100)                #####\n",
    "height = int(img.shape[0] * scale_percent / 100)               #####\n",
    "dim = (width, height)                                          #####\n",
    "# resize image                                                 #####\n",
    "resized = cv2.resize(img, dim, interpolation = cv2.INTER_AREA) #####\n",
    "print('Resized Dimensions : ',resized.shape)                   #####\n",
    "\n",
    "\n",
    "gray = cv2.cvtColor(resized,cv2.COLOR_BGR2GRAY)\n",
    "gray = np.float32(gray)\n",
    "\n",
    "time1 = time.time()\n",
    "dst = cv2.cornerHarris(gray,2,3,0.04)\n",
    "time2 = time.time() - time1\n",
    "\n",
    "#result is dilated for marking the corners, not important\n",
    "dst = cv2.dilate(dst,None)\n",
    "# Threshold for an optimal value, it may vary depending on the image.\n",
    "resized[dst>0.01*dst.max()]=[0,0,255]\n",
    "\n",
    "cv2.imshow('dst',resized)\n",
    "\n",
    "print(time2)\n",
    "\n",
    "if cv2.waitKey(0) & 0xff == 27:\n",
    "    cv2.destroyAllWindows()"
   ]
  },
  {
   "cell_type": "code",
   "execution_count": null,
   "metadata": {},
   "outputs": [],
   "source": []
  },
  {
   "cell_type": "code",
   "execution_count": 6,
   "metadata": {},
   "outputs": [
    {
     "output_type": "stream",
     "name": "stdout",
     "text": [
      "Original Dimensions :  (218, 280, 3)\nResized Dimensions :  (218, 280, 3)\n0.01752924919128418\n"
     ]
    }
   ],
   "source": [
    "import numpy as np\n",
    "import cv2\n",
    "import cv2 as cv\n",
    "import time\n",
    "\n",
    "filename = 'Files/Chess/005.png'\n",
    "img = cv2.imread(filename)\n",
    "\n",
    "\n",
    "print('Original Dimensions : ',img.shape)                      #####\n",
    "scale_percent = 100 # percent of original size                  #####\n",
    "width = int(img.shape[1] * scale_percent / 100)                #####\n",
    "height = int(img.shape[0] * scale_percent / 100)               #####\n",
    "dim = (width, height)                                          #####\n",
    "# resize image                                                 #####\n",
    "resized = cv2.resize(img, dim, interpolation = cv2.INTER_AREA) #####\n",
    "print('Resized Dimensions : ',resized.shape)                   #####\n",
    "\n",
    "\n",
    "gray = cv2.cvtColor(resized,cv2.COLOR_BGR2GRAY)\n",
    "gray = np.float32(gray)\n",
    "\n",
    "time1 = time.time()\n",
    "dst = cv2.cornerHarris(gray,2,3,0.04)\n",
    "time2 = time.time() - time1\n",
    "\n",
    "#result is dilated for marking the corners, not important\n",
    "dst = cv2.dilate(dst,None)\n",
    "# Threshold for an optimal value, it may vary depending on the image.\n",
    "resized[dst>0.01*dst.max()]=[0,0,255]\n",
    "\n",
    "cv2.imshow('dst',resized)\n",
    "\n",
    "print(time2)\n",
    "\n",
    "if cv2.waitKey(0) & 0xff == 27:\n",
    "    cv2.destroyAllWindows()"
   ]
  },
  {
   "cell_type": "code",
   "execution_count": null,
   "metadata": {},
   "outputs": [],
   "source": []
  },
  {
   "cell_type": "code",
   "execution_count": 1,
   "metadata": {},
   "outputs": [
    {
     "output_type": "stream",
     "name": "stdout",
     "text": [
      "Original Dimensions :  (218, 280, 3)\nResized Dimensions :  (218, 280, 3)\n0.0019268989562988281\n"
     ]
    }
   ],
   "source": [
    "import numpy as np\n",
    "import cv2\n",
    "import cv2 as cv\n",
    "import time\n",
    "\n",
    "filename = 'Files/Chess/006.png'\n",
    "img = cv2.imread(filename)\n",
    "\n",
    "\n",
    "print('Original Dimensions : ',img.shape)                      #####\n",
    "scale_percent = 100 # percent of original size                  #####\n",
    "width = int(img.shape[1] * scale_percent / 100)                #####\n",
    "height = int(img.shape[0] * scale_percent / 100)               #####\n",
    "dim = (width, height)                                          #####\n",
    "# resize image                                                 #####\n",
    "resized = cv2.resize(img, dim, interpolation = cv2.INTER_AREA) #####\n",
    "print('Resized Dimensions : ',resized.shape)                   #####\n",
    "\n",
    "\n",
    "gray = cv2.cvtColor(resized,cv2.COLOR_BGR2GRAY)\n",
    "gray = np.float32(gray)\n",
    "\n",
    "time1 = time.time()\n",
    "dst = cv2.cornerHarris(gray,2,3,0.04)\n",
    "time2 = time.time() - time1\n",
    "\n",
    "#result is dilated for marking the corners, not important\n",
    "dst = cv2.dilate(dst,None)\n",
    "# Threshold for an optimal value, it may vary depending on the image.\n",
    "resized[dst>0.01*dst.max()]=[0,0,255]\n",
    "\n",
    "cv2.imshow('dst',resized)\n",
    "\n",
    "print(time2)\n",
    "\n",
    "if cv2.waitKey(0) & 0xff == 27:\n",
    "    cv2.destroyAllWindows()"
   ]
  },
  {
   "cell_type": "code",
   "execution_count": null,
   "metadata": {},
   "outputs": [],
   "source": []
  }
 ]
}